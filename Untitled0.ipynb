{
  "nbformat": 4,
  "nbformat_minor": 0,
  "metadata": {
    "colab": {
      "name": "Untitled0.ipynb",
      "provenance": [],
      "toc_visible": true,
      "authorship_tag": "ABX9TyNvBoBe46QnmdHuPgMF9hQ+",
      "include_colab_link": true
    },
    "kernelspec": {
      "name": "python3",
      "display_name": "Python 3"
    }
  },
  "cells": [
    {
      "cell_type": "markdown",
      "metadata": {
        "id": "view-in-github",
        "colab_type": "text"
      },
      "source": [
        "<a href=\"https://colab.research.google.com/github/Clotilde-Long/-itii-jupyter-seance3/blob/master/Untitled0.ipynb\" target=\"_parent\"><img src=\"https://colab.research.google.com/assets/colab-badge.svg\" alt=\"Open In Colab\"/></a>"
      ]
    },
    {
      "cell_type": "markdown",
      "metadata": {
        "id": "FbeyVxFxK_yz"
      },
      "source": [
        "Ex1:\n",
        "\n",
        "Ecrire une fonction qui prend en entrée une fonction f et des réels a et h et donne en sortie le taux de variation (ou d'accroissement) de la fonction f entre le point d'abscisse a+h et a.\n",
        "Tester avec f(x)=3x^3+1x^2-5"
      ]
    },
    {
      "cell_type": "code",
      "metadata": {
        "id": "BrIfsJPvLDaB",
        "outputId": "d6daac1b-e6d3-47a1-c49a-3538c39f9d76",
        "colab": {
          "base_uri": "https://localhost:8080/",
          "height": 220
        }
      },
      "source": [
        "def fonction(f,a,h):\n",
        "    tauxvar = 0\n",
        "\n",
        "    x = a\n",
        "    fa = f\n",
        "\n",
        "    x = a+h\n",
        "    fah = f\n",
        "\n",
        "    tauxvar = (fah - fa)/((a+h)-a)\n",
        "\n",
        "    return tauxvar\n",
        "\n",
        "x = None\n",
        "f = (3*(x**3))+(x**2)-5\n",
        "print(fonction(f,1,3))"
      ],
      "execution_count": 4,
      "outputs": [
        {
          "output_type": "error",
          "ename": "TypeError",
          "evalue": "ignored",
          "traceback": [
            "\u001b[0;31m---------------------------------------------------------------------------\u001b[0m",
            "\u001b[0;31mTypeError\u001b[0m                                 Traceback (most recent call last)",
            "\u001b[0;32m<ipython-input-4-48f18980aed5>\u001b[0m in \u001b[0;36m<module>\u001b[0;34m()\u001b[0m\n\u001b[1;32m     13\u001b[0m \u001b[0;34m\u001b[0m\u001b[0m\n\u001b[1;32m     14\u001b[0m \u001b[0mx\u001b[0m \u001b[0;34m=\u001b[0m \u001b[0;32mNone\u001b[0m\u001b[0;34m\u001b[0m\u001b[0;34m\u001b[0m\u001b[0m\n\u001b[0;32m---> 15\u001b[0;31m \u001b[0mf\u001b[0m \u001b[0;34m=\u001b[0m \u001b[0;34m(\u001b[0m\u001b[0;36m3\u001b[0m\u001b[0;34m*\u001b[0m\u001b[0;34m(\u001b[0m\u001b[0mx\u001b[0m\u001b[0;34m**\u001b[0m\u001b[0;36m3\u001b[0m\u001b[0;34m)\u001b[0m\u001b[0;34m)\u001b[0m\u001b[0;34m+\u001b[0m\u001b[0;34m(\u001b[0m\u001b[0mx\u001b[0m\u001b[0;34m**\u001b[0m\u001b[0;36m2\u001b[0m\u001b[0;34m)\u001b[0m\u001b[0;34m-\u001b[0m\u001b[0;36m5\u001b[0m\u001b[0;34m\u001b[0m\u001b[0;34m\u001b[0m\u001b[0m\n\u001b[0m\u001b[1;32m     16\u001b[0m \u001b[0mprint\u001b[0m\u001b[0;34m(\u001b[0m\u001b[0mfonction\u001b[0m\u001b[0;34m(\u001b[0m\u001b[0mf\u001b[0m\u001b[0;34m,\u001b[0m\u001b[0;36m1\u001b[0m\u001b[0;34m,\u001b[0m\u001b[0;36m3\u001b[0m\u001b[0;34m)\u001b[0m\u001b[0;34m)\u001b[0m\u001b[0;34m\u001b[0m\u001b[0;34m\u001b[0m\u001b[0m\n",
            "\u001b[0;31mTypeError\u001b[0m: unsupported operand type(s) for ** or pow(): 'NoneType' and 'int'"
          ]
        }
      ]
    },
    {
      "cell_type": "markdown",
      "metadata": {
        "id": "YWx6bBTULEFD"
      },
      "source": [
        "Ex2:\n",
        "\n",
        "Ecrire une fonction qui calcule la liste des coefficients directeurs pour une fonction f définit sur I=[a;b] avec un pas \"p\"\n",
        "Tester avec f(x)=(1+x)/(x-4) définit sur I=[0,1] avec un pas de 0.01"
      ]
    },
    {
      "cell_type": "code",
      "metadata": {
        "id": "4YrdpA1QLK-V"
      },
      "source": [
        ""
      ],
      "execution_count": null,
      "outputs": []
    },
    {
      "cell_type": "markdown",
      "metadata": {
        "id": "L-SDmVK2LLq0"
      },
      "source": [
        "Ex3: on considère une suite U définie par Un+1=Un+n+1 et de premier terme U0. Ecrire une fonction qui prend en entrée les valeurs de n et U0 et affiche la valeur de Un.\n",
        "\n",
        "De facon iterative\n",
        "Par recurence"
      ]
    },
    {
      "cell_type": "code",
      "metadata": {
        "id": "UQv1cjzJLPLn"
      },
      "source": [
        ""
      ],
      "execution_count": null,
      "outputs": []
    },
    {
      "cell_type": "markdown",
      "metadata": {
        "id": "7eSk0BXcLPZB"
      },
      "source": [
        "\n",
        "Ex4: On pose Tn=n^2−(n−1)^2 ainsi que Sn=T1+T2+T3+...+Tn.\n",
        "\n",
        "Etant donné n, afficher la valeur de Sn."
      ]
    },
    {
      "cell_type": "code",
      "metadata": {
        "id": "dfMN6PYsLSPN"
      },
      "source": [
        ""
      ],
      "execution_count": null,
      "outputs": []
    },
    {
      "cell_type": "markdown",
      "metadata": {
        "id": "LctNhL6_LSYN"
      },
      "source": [
        "\n",
        "Ex5: Soit la suite définie par Un+1=0.5.Un et de premier terme U0. Plus la valeur de n augmente, plus les valeurs de Un se rapprochent de 0.\n",
        "\n",
        "Ecrire une fonction qui permet de déterminer pour un réel positif e donné, quel est le plus petit entier n tel que la valeur de Un soit inférieure à e."
      ]
    },
    {
      "cell_type": "code",
      "metadata": {
        "id": "rlLM3AEfLUYh"
      },
      "source": [
        ""
      ],
      "execution_count": null,
      "outputs": []
    },
    {
      "cell_type": "markdown",
      "metadata": {
        "id": "SqFF8StmLUpq"
      },
      "source": [
        "Ex6: Constante K de Catalan : https://fr.wikipedia.org/wiki/Constante_de_Catalan Ecrire une fonction qui permet de retourner une valeur approchée de la constante K et en s’arrêtant dès que la valeur absolue de la différence entre deux somme successives devienne inférieure ou égale à une erreur epsilon donnée en paramètre."
      ]
    },
    {
      "cell_type": "code",
      "metadata": {
        "id": "JaDPsZj1LWk4"
      },
      "source": [
        ""
      ],
      "execution_count": null,
      "outputs": []
    },
    {
      "cell_type": "markdown",
      "metadata": {
        "id": "3VgDdeYTLWvL"
      },
      "source": [
        "Ex 7: Ecrivez une fonction permettant de calculer la limite à epsilon près de la suite définie par la relation de récurrence :\n",
        "\n",
        "U0 =2 Un+1= Un + 2/Un , n>0.\n",
        "\n",
        "On arrête d’itérer quand l’intervalle entre 2 termes consécutifs devient strictement inférieur à epsilon."
      ]
    },
    {
      "cell_type": "code",
      "metadata": {
        "id": "3P5m0NsyLYud"
      },
      "source": [
        ""
      ],
      "execution_count": null,
      "outputs": []
    }
  ]
}